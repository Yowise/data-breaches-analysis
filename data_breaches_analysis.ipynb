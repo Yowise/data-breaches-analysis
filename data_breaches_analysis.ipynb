{
 "cells": [
  {
   "cell_type": "markdown",
   "id": "28f85984-dc9c-43a3-ab30-14910993711f",
   "metadata": {},
   "source": [
    "### Step 1: Imports"
   ]
  },
  {
   "cell_type": "code",
   "execution_count": 24,
   "id": "b74821e2-5f3a-45ad-be32-6700ab6b9aa5",
   "metadata": {},
   "outputs": [],
   "source": [
    "# Import libraries and packages\n",
    "\n",
    "import pandas as pd\n",
    "import statsmodels.api as sm\n",
    "import matplotlib.pyplot as plt\n",
    "import seaborn as sns\n",
    "from scipy import stats\n",
    "from scipy.stats import kruskal"
   ]
  },
  {
   "cell_type": "markdown",
   "id": "1909fd80-1fae-41b0-9755-9339fc4b97b6",
   "metadata": {},
   "source": [
    "Load the dataset `df_1.csv` as data and display the first five rows."
   ]
  },
  {
   "cell_type": "code",
   "execution_count": 25,
   "id": "755aaf32-f54e-45f1-b77a-007618e049d7",
   "metadata": {},
   "outputs": [
    {
     "data": {
      "text/html": [
       "<div>\n",
       "<style scoped>\n",
       "    .dataframe tbody tr th:only-of-type {\n",
       "        vertical-align: middle;\n",
       "    }\n",
       "\n",
       "    .dataframe tbody tr th {\n",
       "        vertical-align: top;\n",
       "    }\n",
       "\n",
       "    .dataframe thead th {\n",
       "        text-align: right;\n",
       "    }\n",
       "</style>\n",
       "<table border=\"1\" class=\"dataframe\">\n",
       "  <thead>\n",
       "    <tr style=\"text-align: right;\">\n",
       "      <th></th>\n",
       "      <th>Unnamed: 0</th>\n",
       "      <th>Entity</th>\n",
       "      <th>Year</th>\n",
       "      <th>Records</th>\n",
       "      <th>Organization type</th>\n",
       "      <th>Method</th>\n",
       "      <th>Sources</th>\n",
       "    </tr>\n",
       "  </thead>\n",
       "  <tbody>\n",
       "    <tr>\n",
       "      <th>0</th>\n",
       "      <td>0</td>\n",
       "      <td>21st Century Oncology</td>\n",
       "      <td>2016</td>\n",
       "      <td>2200000</td>\n",
       "      <td>healthcare</td>\n",
       "      <td>hacked</td>\n",
       "      <td>[5][6]</td>\n",
       "    </tr>\n",
       "    <tr>\n",
       "      <th>1</th>\n",
       "      <td>1</td>\n",
       "      <td>500px</td>\n",
       "      <td>2020</td>\n",
       "      <td>14870304</td>\n",
       "      <td>social networking</td>\n",
       "      <td>hacked</td>\n",
       "      <td>[7]</td>\n",
       "    </tr>\n",
       "    <tr>\n",
       "      <th>2</th>\n",
       "      <td>2</td>\n",
       "      <td>Accendo Insurance Co.</td>\n",
       "      <td>2020</td>\n",
       "      <td>175350</td>\n",
       "      <td>healthcare</td>\n",
       "      <td>poor security</td>\n",
       "      <td>[8][9]</td>\n",
       "    </tr>\n",
       "    <tr>\n",
       "      <th>3</th>\n",
       "      <td>3</td>\n",
       "      <td>Adobe Systems Incorporated</td>\n",
       "      <td>2013</td>\n",
       "      <td>152000000</td>\n",
       "      <td>tech</td>\n",
       "      <td>hacked</td>\n",
       "      <td>[10]</td>\n",
       "    </tr>\n",
       "    <tr>\n",
       "      <th>4</th>\n",
       "      <td>4</td>\n",
       "      <td>Adobe Inc.</td>\n",
       "      <td>2019</td>\n",
       "      <td>7500000</td>\n",
       "      <td>tech</td>\n",
       "      <td>poor security</td>\n",
       "      <td>[11][12]</td>\n",
       "    </tr>\n",
       "  </tbody>\n",
       "</table>\n",
       "</div>"
      ],
      "text/plain": [
       "   Unnamed: 0                      Entity  Year    Records  Organization type  \\\n",
       "0           0       21st Century Oncology  2016    2200000         healthcare   \n",
       "1           1                       500px  2020   14870304  social networking   \n",
       "2           2       Accendo Insurance Co.  2020     175350         healthcare   \n",
       "3           3  Adobe Systems Incorporated  2013  152000000               tech   \n",
       "4           4                  Adobe Inc.  2019    7500000               tech   \n",
       "\n",
       "          Method   Sources  \n",
       "0         hacked    [5][6]  \n",
       "1         hacked       [7]  \n",
       "2  poor security    [8][9]  \n",
       "3         hacked      [10]  \n",
       "4  poor security  [11][12]  "
      ]
     },
     "execution_count": 25,
     "metadata": {},
     "output_type": "execute_result"
    }
   ],
   "source": [
    "data = pd.read_csv('df_1.csv')\n",
    "\n",
    "data.head()"
   ]
  },
  {
   "cell_type": "markdown",
   "id": "ee95b38d-2c1d-49ea-add8-a86e3e825391",
   "metadata": {},
   "source": [
    "### Step 2: Clean the data"
   ]
  },
  {
   "cell_type": "markdown",
   "id": "15e851e1-d627-4f73-b936-24566afb1bad",
   "metadata": {},
   "source": [
    "There is a value called `Sources` that will not be useful in our EDA. Therefore, we clean it using `del` keyword."
   ]
  },
  {
   "cell_type": "code",
   "execution_count": 26,
   "id": "27988434-096c-4fee-8883-c007ac7f2ac2",
   "metadata": {},
   "outputs": [
    {
     "data": {
      "text/html": [
       "<div>\n",
       "<style scoped>\n",
       "    .dataframe tbody tr th:only-of-type {\n",
       "        vertical-align: middle;\n",
       "    }\n",
       "\n",
       "    .dataframe tbody tr th {\n",
       "        vertical-align: top;\n",
       "    }\n",
       "\n",
       "    .dataframe thead th {\n",
       "        text-align: right;\n",
       "    }\n",
       "</style>\n",
       "<table border=\"1\" class=\"dataframe\">\n",
       "  <thead>\n",
       "    <tr style=\"text-align: right;\">\n",
       "      <th></th>\n",
       "      <th>Unnamed: 0</th>\n",
       "      <th>Entity</th>\n",
       "      <th>Year</th>\n",
       "      <th>Records</th>\n",
       "      <th>Organization type</th>\n",
       "      <th>Method</th>\n",
       "    </tr>\n",
       "  </thead>\n",
       "  <tbody>\n",
       "    <tr>\n",
       "      <th>0</th>\n",
       "      <td>0</td>\n",
       "      <td>21st Century Oncology</td>\n",
       "      <td>2016</td>\n",
       "      <td>2200000</td>\n",
       "      <td>healthcare</td>\n",
       "      <td>hacked</td>\n",
       "    </tr>\n",
       "    <tr>\n",
       "      <th>1</th>\n",
       "      <td>1</td>\n",
       "      <td>500px</td>\n",
       "      <td>2020</td>\n",
       "      <td>14870304</td>\n",
       "      <td>social networking</td>\n",
       "      <td>hacked</td>\n",
       "    </tr>\n",
       "    <tr>\n",
       "      <th>2</th>\n",
       "      <td>2</td>\n",
       "      <td>Accendo Insurance Co.</td>\n",
       "      <td>2020</td>\n",
       "      <td>175350</td>\n",
       "      <td>healthcare</td>\n",
       "      <td>poor security</td>\n",
       "    </tr>\n",
       "    <tr>\n",
       "      <th>3</th>\n",
       "      <td>3</td>\n",
       "      <td>Adobe Systems Incorporated</td>\n",
       "      <td>2013</td>\n",
       "      <td>152000000</td>\n",
       "      <td>tech</td>\n",
       "      <td>hacked</td>\n",
       "    </tr>\n",
       "    <tr>\n",
       "      <th>4</th>\n",
       "      <td>4</td>\n",
       "      <td>Adobe Inc.</td>\n",
       "      <td>2019</td>\n",
       "      <td>7500000</td>\n",
       "      <td>tech</td>\n",
       "      <td>poor security</td>\n",
       "    </tr>\n",
       "    <tr>\n",
       "      <th>...</th>\n",
       "      <td>...</td>\n",
       "      <td>...</td>\n",
       "      <td>...</td>\n",
       "      <td>...</td>\n",
       "      <td>...</td>\n",
       "      <td>...</td>\n",
       "    </tr>\n",
       "    <tr>\n",
       "      <th>347</th>\n",
       "      <td>347</td>\n",
       "      <td>Zynga</td>\n",
       "      <td>2019</td>\n",
       "      <td>173000000</td>\n",
       "      <td>social network</td>\n",
       "      <td>hacked</td>\n",
       "    </tr>\n",
       "    <tr>\n",
       "      <th>348</th>\n",
       "      <td>348</td>\n",
       "      <td>Unknown agency(believed to be tied to United S...</td>\n",
       "      <td>2020</td>\n",
       "      <td>200000000</td>\n",
       "      <td>financial</td>\n",
       "      <td>accidentally published</td>\n",
       "    </tr>\n",
       "    <tr>\n",
       "      <th>349</th>\n",
       "      <td>349</td>\n",
       "      <td>National Health Information Center (NCZI) of S...</td>\n",
       "      <td>2020</td>\n",
       "      <td>391250</td>\n",
       "      <td>healthcare</td>\n",
       "      <td>poor security</td>\n",
       "    </tr>\n",
       "    <tr>\n",
       "      <th>350</th>\n",
       "      <td>350</td>\n",
       "      <td>50 companies and government institutions</td>\n",
       "      <td>2022</td>\n",
       "      <td>6400000</td>\n",
       "      <td>various</td>\n",
       "      <td>poor security</td>\n",
       "    </tr>\n",
       "    <tr>\n",
       "      <th>351</th>\n",
       "      <td>351</td>\n",
       "      <td>IKEA</td>\n",
       "      <td>2022</td>\n",
       "      <td>95000</td>\n",
       "      <td>retail</td>\n",
       "      <td>accidentally published</td>\n",
       "    </tr>\n",
       "  </tbody>\n",
       "</table>\n",
       "<p>352 rows × 6 columns</p>\n",
       "</div>"
      ],
      "text/plain": [
       "     Unnamed: 0                                             Entity  Year  \\\n",
       "0             0                              21st Century Oncology  2016   \n",
       "1             1                                              500px  2020   \n",
       "2             2                              Accendo Insurance Co.  2020   \n",
       "3             3                         Adobe Systems Incorporated  2013   \n",
       "4             4                                         Adobe Inc.  2019   \n",
       "..          ...                                                ...   ...   \n",
       "347         347                                              Zynga  2019   \n",
       "348         348  Unknown agency(believed to be tied to United S...  2020   \n",
       "349         349  National Health Information Center (NCZI) of S...  2020   \n",
       "350         350           50 companies and government institutions  2022   \n",
       "351         351                                               IKEA  2022   \n",
       "\n",
       "       Records  Organization type                  Method  \n",
       "0      2200000         healthcare                  hacked  \n",
       "1     14870304  social networking                  hacked  \n",
       "2       175350         healthcare           poor security  \n",
       "3    152000000               tech                  hacked  \n",
       "4      7500000               tech           poor security  \n",
       "..         ...                ...                     ...  \n",
       "347  173000000     social network                  hacked  \n",
       "348  200000000          financial  accidentally published  \n",
       "349     391250         healthcare           poor security  \n",
       "350    6400000            various           poor security  \n",
       "351      95000             retail  accidentally published  \n",
       "\n",
       "[352 rows x 6 columns]"
      ]
     },
     "execution_count": 26,
     "metadata": {},
     "output_type": "execute_result"
    }
   ],
   "source": [
    "del data['Sources']\n",
    "data"
   ]
  },
  {
   "cell_type": "code",
   "execution_count": 27,
   "id": "f499def7-23f0-473f-951f-29b6881d531a",
   "metadata": {},
   "outputs": [
    {
     "name": "stdout",
     "output_type": "stream",
     "text": [
      "<class 'pandas.core.frame.DataFrame'>\n",
      "RangeIndex: 352 entries, 0 to 351\n",
      "Data columns (total 6 columns):\n",
      " #   Column             Non-Null Count  Dtype \n",
      "---  ------             --------------  ----- \n",
      " 0   Unnamed: 0         352 non-null    int64 \n",
      " 1   Entity             352 non-null    object\n",
      " 2   Year               352 non-null    object\n",
      " 3   Records            350 non-null    object\n",
      " 4   Organization type  352 non-null    object\n",
      " 5   Method             351 non-null    object\n",
      "dtypes: int64(1), object(5)\n",
      "memory usage: 16.6+ KB\n"
     ]
    }
   ],
   "source": [
    "data.info()"
   ]
  },
  {
   "cell_type": "markdown",
   "id": "22810d69-ad8c-437d-acec-d6ba248c4d2b",
   "metadata": {},
   "source": [
    "We can see that we have 352 rows and 6 columns. It's also visible a column named `\"Unnamed: 0\"`. Let's transform it into `\"Index\"`, using `rename()` method"
   ]
  },
  {
   "cell_type": "code",
   "execution_count": 28,
   "id": "35f66dc9-d651-4b15-af4e-684f7f5599d1",
   "metadata": {},
   "outputs": [],
   "source": [
    "data = data.rename(columns={'Unnamed: 0': 'Index'})"
   ]
  },
  {
   "cell_type": "code",
   "execution_count": 29,
   "id": "1ea267bc-26a3-4d2e-b5bb-a209eda35f04",
   "metadata": {},
   "outputs": [
    {
     "name": "stdout",
     "output_type": "stream",
     "text": [
      "<class 'pandas.core.frame.DataFrame'>\n",
      "RangeIndex: 352 entries, 0 to 351\n",
      "Data columns (total 6 columns):\n",
      " #   Column             Non-Null Count  Dtype \n",
      "---  ------             --------------  ----- \n",
      " 0   Index              352 non-null    int64 \n",
      " 1   Entity             352 non-null    object\n",
      " 2   Year               352 non-null    object\n",
      " 3   Records            350 non-null    object\n",
      " 4   Organization type  352 non-null    object\n",
      " 5   Method             351 non-null    object\n",
      "dtypes: int64(1), object(5)\n",
      "memory usage: 16.6+ KB\n"
     ]
    }
   ],
   "source": [
    "data.info()"
   ]
  },
  {
   "cell_type": "markdown",
   "id": "af764c61-4f18-44bc-a89b-07f42734dd06",
   "metadata": {},
   "source": [
    "For now, only `Index` is an `integer`. Columns like `Year` and `Records` are `object`. Later on, we will see why. Let's check for duplicates, using `.duplicated()` method."
   ]
  },
  {
   "cell_type": "code",
   "execution_count": 30,
   "id": "b3c35561-b3b2-484b-9ee4-6b3c09dc1fe9",
   "metadata": {},
   "outputs": [
    {
     "data": {
      "text/plain": [
       "0      False\n",
       "1      False\n",
       "2      False\n",
       "3      False\n",
       "4      False\n",
       "       ...  \n",
       "347    False\n",
       "348    False\n",
       "349    False\n",
       "350    False\n",
       "351    False\n",
       "Length: 352, dtype: bool"
      ]
     },
     "execution_count": 30,
     "metadata": {},
     "output_type": "execute_result"
    }
   ],
   "source": [
    "data.duplicated()"
   ]
  },
  {
   "cell_type": "markdown",
   "id": "ee8598e8-6d95-4582-a3f4-5978ea22ea61",
   "metadata": {},
   "source": [
    "### Step 3: Sort the data"
   ]
  },
  {
   "cell_type": "markdown",
   "id": "c0f7e390-2bcb-464a-b561-431eefd5e3a4",
   "metadata": {},
   "source": [
    "Sort the data to see which is the last year in the dataset. "
   ]
  },
  {
   "cell_type": "code",
   "execution_count": 31,
   "id": "89839021-65c1-4fbb-a10b-4181be0aee14",
   "metadata": {},
   "outputs": [
    {
     "data": {
      "text/html": [
       "<div>\n",
       "<style scoped>\n",
       "    .dataframe tbody tr th:only-of-type {\n",
       "        vertical-align: middle;\n",
       "    }\n",
       "\n",
       "    .dataframe tbody tr th {\n",
       "        vertical-align: top;\n",
       "    }\n",
       "\n",
       "    .dataframe thead th {\n",
       "        text-align: right;\n",
       "    }\n",
       "</style>\n",
       "<table border=\"1\" class=\"dataframe\">\n",
       "  <thead>\n",
       "    <tr style=\"text-align: right;\">\n",
       "      <th></th>\n",
       "      <th>Index</th>\n",
       "      <th>Entity</th>\n",
       "      <th>Year</th>\n",
       "      <th>Records</th>\n",
       "      <th>Organization type</th>\n",
       "      <th>Method</th>\n",
       "    </tr>\n",
       "  </thead>\n",
       "  <tbody>\n",
       "    <tr>\n",
       "      <th>351</th>\n",
       "      <td>351</td>\n",
       "      <td>IKEA</td>\n",
       "      <td>2022</td>\n",
       "      <td>95000</td>\n",
       "      <td>retail</td>\n",
       "      <td>accidentally published</td>\n",
       "    </tr>\n",
       "    <tr>\n",
       "      <th>151</th>\n",
       "      <td>151</td>\n",
       "      <td>International Committee of the Red Cross</td>\n",
       "      <td>2022</td>\n",
       "      <td>515000</td>\n",
       "      <td>humanitarian</td>\n",
       "      <td>unknown</td>\n",
       "    </tr>\n",
       "    <tr>\n",
       "      <th>350</th>\n",
       "      <td>350</td>\n",
       "      <td>50 companies and government institutions</td>\n",
       "      <td>2022</td>\n",
       "      <td>6400000</td>\n",
       "      <td>various</td>\n",
       "      <td>poor security</td>\n",
       "    </tr>\n",
       "    <tr>\n",
       "      <th>148</th>\n",
       "      <td>148</td>\n",
       "      <td>Iberdrola</td>\n",
       "      <td>2022</td>\n",
       "      <td>1300000</td>\n",
       "      <td>energy</td>\n",
       "      <td>poor security</td>\n",
       "    </tr>\n",
       "    <tr>\n",
       "      <th>195</th>\n",
       "      <td>195</td>\n",
       "      <td>Morinaga Confectionery</td>\n",
       "      <td>2022</td>\n",
       "      <td>1648922</td>\n",
       "      <td>online shopping</td>\n",
       "      <td>ransomware hacked</td>\n",
       "    </tr>\n",
       "    <tr>\n",
       "      <th>200</th>\n",
       "      <td>200</td>\n",
       "      <td>NEC Networks, LLC</td>\n",
       "      <td>2021</td>\n",
       "      <td>1600000</td>\n",
       "      <td>healthcare</td>\n",
       "      <td>hacked</td>\n",
       "    </tr>\n",
       "    <tr>\n",
       "      <th>77</th>\n",
       "      <td>77</td>\n",
       "      <td>CyberServe</td>\n",
       "      <td>2021</td>\n",
       "      <td>1107034</td>\n",
       "      <td>hosting provider</td>\n",
       "      <td>hacked</td>\n",
       "    </tr>\n",
       "    <tr>\n",
       "      <th>282</th>\n",
       "      <td>282</td>\n",
       "      <td>T-Mobile</td>\n",
       "      <td>2021</td>\n",
       "      <td>45000000</td>\n",
       "      <td>telecom</td>\n",
       "      <td>hacked</td>\n",
       "    </tr>\n",
       "    <tr>\n",
       "      <th>140</th>\n",
       "      <td>140</td>\n",
       "      <td>Health Service Executive</td>\n",
       "      <td>2021</td>\n",
       "      <td>unknown</td>\n",
       "      <td>healthcare</td>\n",
       "      <td>unknown</td>\n",
       "    </tr>\n",
       "    <tr>\n",
       "      <th>289</th>\n",
       "      <td>289</td>\n",
       "      <td>Twitch</td>\n",
       "      <td>2021</td>\n",
       "      <td>unknown</td>\n",
       "      <td>tech</td>\n",
       "      <td>hacked/misconfiguration</td>\n",
       "    </tr>\n",
       "  </tbody>\n",
       "</table>\n",
       "</div>"
      ],
      "text/plain": [
       "     Index                                    Entity  Year   Records  \\\n",
       "351    351                                      IKEA  2022     95000   \n",
       "151    151  International Committee of the Red Cross  2022    515000   \n",
       "350    350  50 companies and government institutions  2022   6400000   \n",
       "148    148                                 Iberdrola  2022   1300000   \n",
       "195    195                    Morinaga Confectionery  2022   1648922   \n",
       "200    200                         NEC Networks, LLC  2021   1600000   \n",
       "77      77                                CyberServe  2021   1107034   \n",
       "282    282                                  T-Mobile  2021  45000000   \n",
       "140    140                  Health Service Executive  2021   unknown   \n",
       "289    289                                    Twitch  2021   unknown   \n",
       "\n",
       "    Organization type                   Method  \n",
       "351            retail   accidentally published  \n",
       "151      humanitarian                  unknown  \n",
       "350           various            poor security  \n",
       "148            energy            poor security  \n",
       "195   online shopping        ransomware hacked  \n",
       "200        healthcare                   hacked  \n",
       "77   hosting provider                   hacked  \n",
       "282           telecom                   hacked  \n",
       "140        healthcare                  unknown  \n",
       "289              tech  hacked/misconfiguration  "
      ]
     },
     "execution_count": 31,
     "metadata": {},
     "output_type": "execute_result"
    }
   ],
   "source": [
    "data.sort_values(by=\"Year\", ascending=False).head(10)"
   ]
  },
  {
   "cell_type": "markdown",
   "id": "84eb2a02-69c8-4b8e-8344-e39aa3dd5275",
   "metadata": {},
   "source": [
    "Sort the data according to the highest number of attacks in the given years."
   ]
  },
  {
   "cell_type": "code",
   "execution_count": 32,
   "id": "fc8b6ab1-83ca-4298-b55e-387890254b84",
   "metadata": {},
   "outputs": [
    {
     "data": {
      "text/plain": [
       "Year\n",
       "2011             34\n",
       "2020             31\n",
       "2019             30\n",
       "2013             28\n",
       "2015             28\n",
       "2018             26\n",
       "2014             25\n",
       "2012             23\n",
       "2016             22\n",
       "2010             19\n",
       "2008             16\n",
       "2021             13\n",
       "2009             13\n",
       "2007             12\n",
       "2017              9\n",
       "2006              7\n",
       "2005              6\n",
       "2022              5\n",
       "2004              2\n",
       "2019-2020         1\n",
       "2018-2019         1\n",
       "2014 and 2015     1\n",
       "Name: count, dtype: int64"
      ]
     },
     "execution_count": 32,
     "metadata": {},
     "output_type": "execute_result"
    }
   ],
   "source": [
    "data[\"Year\"].value_counts().sort_values(ascending=False)"
   ]
  },
  {
   "cell_type": "markdown",
   "id": "b5e440c3-79e5-4f99-8e33-c0ac3637941c",
   "metadata": {},
   "source": [
    "### Step 4: Clean the data"
   ]
  },
  {
   "cell_type": "markdown",
   "id": "067701cf-d741-4d8d-bfec-e3d2e7b27e11",
   "metadata": {},
   "source": [
    "As EDA allows for returning to a previous step, we'll continue with data cleaning. The reason is there are three values that determine the `object` dtype of `Year` column. These values are: \"2019-2020\", \"2018-2020\" and \"2014 and 2015\".\n",
    "A separate column called `Year_Split`will be created to store the object values, then `Year` column will be converted to `integer`.\n",
    "Before this, we'll identify the index of these values and retrieve more information about them."
   ]
  },
  {
   "cell_type": "code",
   "execution_count": 33,
   "id": "d9573cff-4347-41df-a4bd-2032cac8390b",
   "metadata": {},
   "outputs": [
    {
     "name": "stdout",
     "output_type": "stream",
     "text": [
      "Row index: 94, Column index: Year\n"
     ]
    }
   ],
   "source": [
    "\"\"\"\n",
    "Let's breakdown the code:\n",
    "\n",
    "value_to_find = \"2019-2020\" stores the target value we want to find in the dataset.\n",
    "\n",
    "result = data.where(data == value_to_find).dropna(how='all').dropna(how='all').dropna(axis=1, how='all') The .where() method is used to create a new DataFrame called \"result\", by comparing each cell in the original \"data\" (which is the dataframe)\n",
    "If a cell matches, it keeps the original value.\n",
    "If a cell doesn't match, it replaces the value with NaN (Not a Number), essentially marking non-matching cells.\n",
    ".dropna(how='all').dropna(axis=1, how='all') cleans up the \"result\" DataFrame:\n",
    ".dropna(how='all') Removes rows where all values are NaN. This ensures that if \"2019-2020\" isn't found in a row, the entire row is discarded.\n",
    ".dropna(axis=1, how='all'): Does the same thing but for columns. If a column has all NaN values (meaning \"2019-2020\" wasn't found in that column), the entire column is removed.\n",
    "\n",
    "row_index = result.index[0]: After the cleanup, \"result\" should ideally contain a single cell with the value \"2019-2020.\" This line extracts the row index of that cell.\n",
    "\n",
    "column_index = result.columns[0]: Similarly, this line extracts the column index of the cell containing \"2019-2020.\"\n",
    "\n",
    "print(f\"Row index: {row_index}, Column index: {column_index}\"): Finally, the code prints the row and column indices where the target value was found in the original \"data.\"\n",
    "\n",
    "\"\"\"\n",
    "\n",
    "value_to_find = \"2019-2020\" \n",
    "result = data.where(data == value_to_find).dropna(how='all').dropna(axis=1, how='all')\n",
    "row_index = result.index[0]\n",
    "column_index = result.columns[0]\n",
    "\n",
    "print(f\"Row index: {row_index}, Column index: {column_index}\") "
   ]
  },
  {
   "cell_type": "code",
   "execution_count": 34,
   "id": "dae137e7-5cb3-4389-b286-f800fb83e465",
   "metadata": {},
   "outputs": [
    {
     "data": {
      "text/plain": [
       "Index                                                               94\n",
       "Entity                                                         EasyJet\n",
       "Year                                                         2019-2020\n",
       "Records              9,000,000 (approx) - basic booking, 2208 (cred...\n",
       "Organization type                                            transport\n",
       "Method                                                          hacked\n",
       "Name: 94, dtype: object"
      ]
     },
     "execution_count": 34,
     "metadata": {},
     "output_type": "execute_result"
    }
   ],
   "source": [
    "row_label = 94  # The index label of the row we want\n",
    "selected_row = data.loc[row_label] # assigns the selected row (which is a Pandas Series) to the variable row_label, which holds the label of the row we are selecting, i.e 94 in our case\n",
    "\n",
    "selected_row"
   ]
  },
  {
   "cell_type": "code",
   "execution_count": 35,
   "id": "f45df846-f69d-4d24-911a-9fa7bff0747d",
   "metadata": {},
   "outputs": [
    {
     "data": {
      "text/plain": [
       "Index                                                               96\n",
       "Entity               Earl Enterprises(Buca di Beppo, Earl of Sandwi...\n",
       "Year                                                         2018-2019\n",
       "Records                                                        2000000\n",
       "Organization type                                           restaurant\n",
       "Method                                                          hacked\n",
       "Name: 96, dtype: object"
      ]
     },
     "execution_count": 35,
     "metadata": {},
     "output_type": "execute_result"
    }
   ],
   "source": [
    "row_label = 96 \n",
    "selected_row = data.loc[row_label]\n",
    "\n",
    "selected_row"
   ]
  },
  {
   "cell_type": "code",
   "execution_count": 36,
   "id": "a3eb37e7-27fc-4766-8b7d-3e14bfd1e9c7",
   "metadata": {},
   "outputs": [
    {
     "name": "stdout",
     "output_type": "stream",
     "text": [
      "Row index: 144, Column index: Year\n"
     ]
    }
   ],
   "source": [
    "value_to_find = \"2014 and 2015\"\n",
    "result = data.where(data == value_to_find).dropna(how='all').dropna(axis=1, how='all')\n",
    "row_index = result.index[0]\n",
    "column_index = result.columns[0]\n",
    "\n",
    "print(f\"Row index: {row_index}, Column index: {column_index}\")"
   ]
  },
  {
   "cell_type": "code",
   "execution_count": 37,
   "id": "58beca61-f272-4ec5-826e-0a7a70a96f9f",
   "metadata": {},
   "outputs": [
    {
     "data": {
      "text/plain": [
       "Index                          144\n",
       "Entity               Hilton Hotels\n",
       "Year                 2014 and 2015\n",
       "Records                     363000\n",
       "Organization type            hotel\n",
       "Method                      hacked\n",
       "Name: 144, dtype: object"
      ]
     },
     "execution_count": 37,
     "metadata": {},
     "output_type": "execute_result"
    }
   ],
   "source": [
    "row_label = 144  \n",
    "selected_row = data.loc[row_label]\n",
    "\n",
    "selected_row"
   ]
  },
  {
   "cell_type": "markdown",
   "id": "cefa5730-41f0-4dcc-83ee-5bb9630ae403",
   "metadata": {},
   "source": [
    "Now, we'll create define a function that uses conditional checks to handle different year formats.\n",
    "\n",
    "\n",
    "Code breakdown:\n",
    "\n",
    "`extract_year_split(year_string)` function takes a single `year_string` as input.\n",
    "It uses conditional checks (`if`, `elif`, `else`) to handle different year formats:\n",
    "\n",
    "\n",
    "`if 'and' in year_string:`: If the string contains \"and\", it replaces \" and \" with \" and \" (it seems like you might have intended a different replacement here).\n",
    "\n",
    "`elif '-' in year_string:`: If the string contains \"-\", it replaces \" - \" with \" - \" (again, the replacement seems unintentional).\n",
    "\n",
    "`else:`: If neither \"and\" nor \"-\" is found, it keeps the year_string as is (this likely handles the \"YYYY-YYYY\" format).\n",
    "\n",
    "Finally, it returns the modified `year_string`.\n",
    "\n",
    "\n",
    "\n",
    "Creating the `Year_Split` Column:\n",
    " \n",
    "\n",
    "`mask = data['Year'].str.contains(r'\\d{4}-\\d{4}|\\band\\b')` creates a boolean mask (mask) to identify rows where the \"Year\" column matches specific patterns:\n",
    "`\\d{4}-\\d{4}` Matches strings like \"YYYY-YYYY\".\n",
    "`\\band\\b` Matches strings containing \"and\" as a separate word (the `\\b` ensures it's not part of another word).\n",
    "\n",
    "`data['Year_Split'] = data.loc[mask, 'Year'].apply(extract_year_split)` applies the extract_year_split function to the \"Year\" column only for rows where the mask is True (i.e., rows matching the year patterns). The results are stored in a new column called `Year_Split`.\n",
    "`data.loc[mask, 'Year'] = None` sets the original \"Year\" values to None for the rows where the mask is True. This suggests we might want to eventually remove the original `Year` column.\n",
    "\n",
    "`print(data)`  prints the modified DataFrame, showing the results of the transformation.\n",
    "\n"
   ]
  },
  {
   "cell_type": "code",
   "execution_count": 38,
   "id": "327e1724-de4a-455a-a700-6125906d7957",
   "metadata": {},
   "outputs": [
    {
     "name": "stdout",
     "output_type": "stream",
     "text": [
      "     Index                                             Entity  Year  \\\n",
      "0        0                              21st Century Oncology  2016   \n",
      "1        1                                              500px  2020   \n",
      "2        2                              Accendo Insurance Co.  2020   \n",
      "3        3                         Adobe Systems Incorporated  2013   \n",
      "4        4                                         Adobe Inc.  2019   \n",
      "..     ...                                                ...   ...   \n",
      "347    347                                              Zynga  2019   \n",
      "348    348  Unknown agency(believed to be tied to United S...  2020   \n",
      "349    349  National Health Information Center (NCZI) of S...  2020   \n",
      "350    350           50 companies and government institutions  2022   \n",
      "351    351                                               IKEA  2022   \n",
      "\n",
      "       Records  Organization type                  Method Year_Split  \n",
      "0      2200000         healthcare                  hacked        NaN  \n",
      "1     14870304  social networking                  hacked        NaN  \n",
      "2       175350         healthcare           poor security        NaN  \n",
      "3    152000000               tech                  hacked        NaN  \n",
      "4      7500000               tech           poor security        NaN  \n",
      "..         ...                ...                     ...        ...  \n",
      "347  173000000     social network                  hacked        NaN  \n",
      "348  200000000          financial  accidentally published        NaN  \n",
      "349     391250         healthcare           poor security        NaN  \n",
      "350    6400000            various           poor security        NaN  \n",
      "351      95000             retail  accidentally published        NaN  \n",
      "\n",
      "[352 rows x 7 columns]\n"
     ]
    }
   ],
   "source": [
    "\n",
    "def extract_year_split(year_string):\n",
    "    if 'and' in year_string:\n",
    "        return year_string.replace(' and ', ' and ')\n",
    "    elif '-' in year_string:\n",
    "        return year_string.replace (' - ', ' - ')\n",
    "    else:\n",
    "        return year_string  # Keep \"YYYY-YYYY\" as is\n",
    "\n",
    "mask = data['Year'].str.contains(r'\\d{4}-\\d{4}|\\band\\b')\n",
    "data['Year_Split'] = data.loc[mask, 'Year'].apply(extract_year_split)\n",
    "data.loc[mask, 'Year'] = None\n",
    "\n",
    "print(data)"
   ]
  },
  {
   "cell_type": "code",
   "execution_count": 39,
   "id": "e9b31684-902a-428d-906c-9697a7c59cdf",
   "metadata": {},
   "outputs": [
    {
     "name": "stdout",
     "output_type": "stream",
     "text": [
      "<class 'pandas.core.frame.DataFrame'>\n",
      "RangeIndex: 352 entries, 0 to 351\n",
      "Data columns (total 7 columns):\n",
      " #   Column             Non-Null Count  Dtype \n",
      "---  ------             --------------  ----- \n",
      " 0   Index              352 non-null    int64 \n",
      " 1   Entity             352 non-null    object\n",
      " 2   Year               349 non-null    object\n",
      " 3   Records            350 non-null    object\n",
      " 4   Organization type  352 non-null    object\n",
      " 5   Method             351 non-null    object\n",
      " 6   Year_Split         3 non-null      object\n",
      "dtypes: int64(1), object(6)\n",
      "memory usage: 19.4+ KB\n"
     ]
    }
   ],
   "source": [
    "data.info()"
   ]
  },
  {
   "cell_type": "markdown",
   "id": "b3247128-aaee-442f-b571-2dda70ef2e8f",
   "metadata": {},
   "source": [
    "The column `Year_Split` was created and contains 3 objects. Meanwhile, `Year` has 349, instead of 352. Exactly what we wanted to achieve. Let's describe the data."
   ]
  },
  {
   "cell_type": "code",
   "execution_count": 40,
   "id": "5c7fd45c-cf64-4825-a6f3-28120470507b",
   "metadata": {},
   "outputs": [
    {
     "data": {
      "text/plain": [
       "count      349\n",
       "unique      19\n",
       "top       2011\n",
       "freq        34\n",
       "Name: Year, dtype: object"
      ]
     },
     "execution_count": 40,
     "metadata": {},
     "output_type": "execute_result"
    }
   ],
   "source": [
    "data['Year'].describe()"
   ]
  },
  {
   "cell_type": "markdown",
   "id": "b8427212-17e4-4d70-9628-d2919c336bc5",
   "metadata": {},
   "source": [
    "Explanation:\n",
    "- count: There are 349 non-missing values in this column.\n",
    "- unique: There are 19 distinct (different) categories or values in this column.\n",
    "- top: The most frequent value (the mode) in this column is '2011'.\n",
    "-freq: The most frequent value ('2011') appears 34 times in the dataset."
   ]
  },
  {
   "cell_type": "code",
   "execution_count": 41,
   "id": "a9051671-783b-4acf-b311-0b80f3a1ded5",
   "metadata": {},
   "outputs": [
    {
     "data": {
      "text/plain": [
       "count     352\n",
       "unique     70\n",
       "top       web\n",
       "freq       53\n",
       "Name: Organization type, dtype: object"
      ]
     },
     "execution_count": 41,
     "metadata": {},
     "output_type": "execute_result"
    }
   ],
   "source": [
    "data['Organization type'].describe()"
   ]
  },
  {
   "cell_type": "markdown",
   "id": "979559d0-2e8f-4d87-8c4c-318b9a7aa13e",
   "metadata": {},
   "source": [
    "Now, let's create a copy of the original data frame and convert the values from column `Year`. Then we describe it again, this time as an integer."
   ]
  },
  {
   "cell_type": "code",
   "execution_count": 42,
   "id": "64a4cf2e-689f-4142-bc08-d75d12d7bed9",
   "metadata": {},
   "outputs": [
    {
     "data": {
      "text/html": [
       "<div>\n",
       "<style scoped>\n",
       "    .dataframe tbody tr th:only-of-type {\n",
       "        vertical-align: middle;\n",
       "    }\n",
       "\n",
       "    .dataframe tbody tr th {\n",
       "        vertical-align: top;\n",
       "    }\n",
       "\n",
       "    .dataframe thead th {\n",
       "        text-align: right;\n",
       "    }\n",
       "</style>\n",
       "<table border=\"1\" class=\"dataframe\">\n",
       "  <thead>\n",
       "    <tr style=\"text-align: right;\">\n",
       "      <th></th>\n",
       "      <th>Index</th>\n",
       "      <th>Entity</th>\n",
       "      <th>Year</th>\n",
       "      <th>Records</th>\n",
       "      <th>Organization type</th>\n",
       "      <th>Method</th>\n",
       "      <th>Year_Split</th>\n",
       "    </tr>\n",
       "  </thead>\n",
       "  <tbody>\n",
       "    <tr>\n",
       "      <th>0</th>\n",
       "      <td>0</td>\n",
       "      <td>21st Century Oncology</td>\n",
       "      <td>2016</td>\n",
       "      <td>2200000</td>\n",
       "      <td>healthcare</td>\n",
       "      <td>hacked</td>\n",
       "      <td>NaN</td>\n",
       "    </tr>\n",
       "    <tr>\n",
       "      <th>1</th>\n",
       "      <td>1</td>\n",
       "      <td>500px</td>\n",
       "      <td>2020</td>\n",
       "      <td>14870304</td>\n",
       "      <td>social networking</td>\n",
       "      <td>hacked</td>\n",
       "      <td>NaN</td>\n",
       "    </tr>\n",
       "    <tr>\n",
       "      <th>2</th>\n",
       "      <td>2</td>\n",
       "      <td>Accendo Insurance Co.</td>\n",
       "      <td>2020</td>\n",
       "      <td>175350</td>\n",
       "      <td>healthcare</td>\n",
       "      <td>poor security</td>\n",
       "      <td>NaN</td>\n",
       "    </tr>\n",
       "    <tr>\n",
       "      <th>3</th>\n",
       "      <td>3</td>\n",
       "      <td>Adobe Systems Incorporated</td>\n",
       "      <td>2013</td>\n",
       "      <td>152000000</td>\n",
       "      <td>tech</td>\n",
       "      <td>hacked</td>\n",
       "      <td>NaN</td>\n",
       "    </tr>\n",
       "    <tr>\n",
       "      <th>4</th>\n",
       "      <td>4</td>\n",
       "      <td>Adobe Inc.</td>\n",
       "      <td>2019</td>\n",
       "      <td>7500000</td>\n",
       "      <td>tech</td>\n",
       "      <td>poor security</td>\n",
       "      <td>NaN</td>\n",
       "    </tr>\n",
       "  </tbody>\n",
       "</table>\n",
       "</div>"
      ],
      "text/plain": [
       "   Index                      Entity  Year    Records  Organization type  \\\n",
       "0      0       21st Century Oncology  2016    2200000         healthcare   \n",
       "1      1                       500px  2020   14870304  social networking   \n",
       "2      2       Accendo Insurance Co.  2020     175350         healthcare   \n",
       "3      3  Adobe Systems Incorporated  2013  152000000               tech   \n",
       "4      4                  Adobe Inc.  2019    7500000               tech   \n",
       "\n",
       "          Method Year_Split  \n",
       "0         hacked        NaN  \n",
       "1         hacked        NaN  \n",
       "2  poor security        NaN  \n",
       "3         hacked        NaN  \n",
       "4  poor security        NaN  "
      ]
     },
     "execution_count": 42,
     "metadata": {},
     "output_type": "execute_result"
    }
   ],
   "source": [
    "data_copy = data.copy()\n",
    "\n",
    "\n",
    "data_copy['Year'] = data['Year'].fillna(0).astype(int)\n",
    "data_copy.head()"
   ]
  },
  {
   "cell_type": "markdown",
   "id": "4e86df6b-5495-477b-8532-69c3808b66a3",
   "metadata": {},
   "source": [
    "Explanation:\n",
    "- count: There are 352 non-missing values in the 'Year' column.\n",
    "- mean: The average year is approximately 1996.96. This suggests that the years in the dataset are centered around the late 1990s/early 2000s.\n",
    "- std (standard deviation): The standard deviation is about 185.46. This tells  how spread out the years are around the mean. A larger standard deviation indicates a wider range of years.\n",
    "- min: The earliest year in the dataset is 0. This value might indicate either missing data or a placeholder, as the year 0 is not a standard calendar year.\n",
    "- 25% (1st quartile): 25% of the years in the dataset are 2011 or earlier.\n",
    "- 50% (median): The middle year in the dataset is 2014. This means that half of the years are before 2014, and half are after.\n",
    "- 75% (3rd quartile): 75% of the years in the dataset are 2018 or earlier.    \n",
    "- max: The most recent year in the dataset is 2022."
   ]
  },
  {
   "cell_type": "markdown",
   "id": "f0d46b86-e459-40e0-9299-937bcd8bdc45",
   "metadata": {},
   "source": [
    "Note that now we have again 352 rows in the `Year` column. That's because after converting to integer, the rows moved to `Year_Split` were re-added. The value 0 is due to the missing values in The `Year` column. Let's `index 96` as an example."
   ]
  },
  {
   "cell_type": "code",
   "execution_count": 43,
   "id": "047e776c-0cb8-42b5-8b2f-ab8707e2fec3",
   "metadata": {},
   "outputs": [
    {
     "data": {
      "text/plain": [
       "Index                                                               96\n",
       "Entity               Earl Enterprises(Buca di Beppo, Earl of Sandwi...\n",
       "Year                                                              None\n",
       "Records                                                        2000000\n",
       "Organization type                                           restaurant\n",
       "Method                                                          hacked\n",
       "Year_Split                                                   2018-2019\n",
       "Name: 96, dtype: object"
      ]
     },
     "execution_count": 43,
     "metadata": {},
     "output_type": "execute_result"
    }
   ],
   "source": [
    "row_label = 96 \n",
    "selected_row = data.loc[row_label]\n",
    "\n",
    "selected_row"
   ]
  },
  {
   "cell_type": "markdown",
   "id": "b5da0727-f6d9-4d88-b699-9ffecc897e21",
   "metadata": {},
   "source": [
    "There is a way to get rid of the 0 value which does not make sense in our EDA."
   ]
  },
  {
   "cell_type": "code",
   "execution_count": 44,
   "id": "5abe5686-e72e-4814-8a33-eab330b50c07",
   "metadata": {},
   "outputs": [
    {
     "data": {
      "text/html": [
       "<div>\n",
       "<style scoped>\n",
       "    .dataframe tbody tr th:only-of-type {\n",
       "        vertical-align: middle;\n",
       "    }\n",
       "\n",
       "    .dataframe tbody tr th {\n",
       "        vertical-align: top;\n",
       "    }\n",
       "\n",
       "    .dataframe thead th {\n",
       "        text-align: right;\n",
       "    }\n",
       "</style>\n",
       "<table border=\"1\" class=\"dataframe\">\n",
       "  <thead>\n",
       "    <tr style=\"text-align: right;\">\n",
       "      <th></th>\n",
       "      <th>Index</th>\n",
       "      <th>Entity</th>\n",
       "      <th>Year</th>\n",
       "      <th>Records</th>\n",
       "      <th>Organization type</th>\n",
       "      <th>Method</th>\n",
       "      <th>Year_Split</th>\n",
       "    </tr>\n",
       "  </thead>\n",
       "  <tbody>\n",
       "    <tr>\n",
       "      <th>0</th>\n",
       "      <td>0</td>\n",
       "      <td>21st Century Oncology</td>\n",
       "      <td>2016</td>\n",
       "      <td>2200000</td>\n",
       "      <td>healthcare</td>\n",
       "      <td>hacked</td>\n",
       "      <td>NaN</td>\n",
       "    </tr>\n",
       "    <tr>\n",
       "      <th>1</th>\n",
       "      <td>1</td>\n",
       "      <td>500px</td>\n",
       "      <td>2020</td>\n",
       "      <td>14870304</td>\n",
       "      <td>social networking</td>\n",
       "      <td>hacked</td>\n",
       "      <td>NaN</td>\n",
       "    </tr>\n",
       "    <tr>\n",
       "      <th>2</th>\n",
       "      <td>2</td>\n",
       "      <td>Accendo Insurance Co.</td>\n",
       "      <td>2020</td>\n",
       "      <td>175350</td>\n",
       "      <td>healthcare</td>\n",
       "      <td>poor security</td>\n",
       "      <td>NaN</td>\n",
       "    </tr>\n",
       "    <tr>\n",
       "      <th>3</th>\n",
       "      <td>3</td>\n",
       "      <td>Adobe Systems Incorporated</td>\n",
       "      <td>2013</td>\n",
       "      <td>152000000</td>\n",
       "      <td>tech</td>\n",
       "      <td>hacked</td>\n",
       "      <td>NaN</td>\n",
       "    </tr>\n",
       "    <tr>\n",
       "      <th>4</th>\n",
       "      <td>4</td>\n",
       "      <td>Adobe Inc.</td>\n",
       "      <td>2019</td>\n",
       "      <td>7500000</td>\n",
       "      <td>tech</td>\n",
       "      <td>poor security</td>\n",
       "      <td>NaN</td>\n",
       "    </tr>\n",
       "    <tr>\n",
       "      <th>...</th>\n",
       "      <td>...</td>\n",
       "      <td>...</td>\n",
       "      <td>...</td>\n",
       "      <td>...</td>\n",
       "      <td>...</td>\n",
       "      <td>...</td>\n",
       "      <td>...</td>\n",
       "    </tr>\n",
       "    <tr>\n",
       "      <th>91</th>\n",
       "      <td>91</td>\n",
       "      <td>DSW Inc.</td>\n",
       "      <td>2005</td>\n",
       "      <td>1400000</td>\n",
       "      <td>retail</td>\n",
       "      <td>hacked</td>\n",
       "      <td>NaN</td>\n",
       "    </tr>\n",
       "    <tr>\n",
       "      <th>92</th>\n",
       "      <td>92</td>\n",
       "      <td>Dubsmash</td>\n",
       "      <td>2018</td>\n",
       "      <td>162000000</td>\n",
       "      <td>messaging app</td>\n",
       "      <td>hacked</td>\n",
       "      <td>NaN</td>\n",
       "    </tr>\n",
       "    <tr>\n",
       "      <th>93</th>\n",
       "      <td>93</td>\n",
       "      <td>Dun &amp; Bradstreet</td>\n",
       "      <td>2013</td>\n",
       "      <td>1000000</td>\n",
       "      <td>tech</td>\n",
       "      <td>hacked</td>\n",
       "      <td>NaN</td>\n",
       "    </tr>\n",
       "    <tr>\n",
       "      <th>95</th>\n",
       "      <td>95</td>\n",
       "      <td>eBay</td>\n",
       "      <td>2014</td>\n",
       "      <td>145000000</td>\n",
       "      <td>web</td>\n",
       "      <td>hacked</td>\n",
       "      <td>NaN</td>\n",
       "    </tr>\n",
       "    <tr>\n",
       "      <th>97</th>\n",
       "      <td>97</td>\n",
       "      <td>Educational Credit Management Corporation</td>\n",
       "      <td>2010</td>\n",
       "      <td>3300000</td>\n",
       "      <td>financial</td>\n",
       "      <td>lost / stolen media</td>\n",
       "      <td>NaN</td>\n",
       "    </tr>\n",
       "  </tbody>\n",
       "</table>\n",
       "<p>96 rows × 7 columns</p>\n",
       "</div>"
      ],
      "text/plain": [
       "    Index                                     Entity  Year    Records  \\\n",
       "0       0                      21st Century Oncology  2016    2200000   \n",
       "1       1                                      500px  2020   14870304   \n",
       "2       2                      Accendo Insurance Co.  2020     175350   \n",
       "3       3                 Adobe Systems Incorporated  2013  152000000   \n",
       "4       4                                 Adobe Inc.  2019    7500000   \n",
       "..    ...                                        ...   ...        ...   \n",
       "91     91                                   DSW Inc.  2005    1400000   \n",
       "92     92                                   Dubsmash  2018  162000000   \n",
       "93     93                           Dun & Bradstreet  2013    1000000   \n",
       "95     95                                       eBay  2014  145000000   \n",
       "97     97  Educational Credit Management Corporation  2010    3300000   \n",
       "\n",
       "    Organization type               Method Year_Split  \n",
       "0          healthcare               hacked        NaN  \n",
       "1   social networking               hacked        NaN  \n",
       "2          healthcare        poor security        NaN  \n",
       "3                tech               hacked        NaN  \n",
       "4                tech        poor security        NaN  \n",
       "..                ...                  ...        ...  \n",
       "91             retail               hacked        NaN  \n",
       "92      messaging app               hacked        NaN  \n",
       "93               tech               hacked        NaN  \n",
       "95                web               hacked        NaN  \n",
       "97          financial  lost / stolen media        NaN  \n",
       "\n",
       "[96 rows x 7 columns]"
      ]
     },
     "execution_count": 44,
     "metadata": {},
     "output_type": "execute_result"
    }
   ],
   "source": [
    "data_copy = data_copy[data_copy['Year'] != 0] \n",
    "data_copy.head(96)"
   ]
  },
  {
   "cell_type": "code",
   "execution_count": 45,
   "id": "cdb11de1-1454-4bc9-bb3b-2fa159ad7a4d",
   "metadata": {},
   "outputs": [
    {
     "data": {
      "text/plain": [
       "count     349.000000\n",
       "mean     2014.123209\n",
       "std         4.415133\n",
       "min      2004.000000\n",
       "25%      2011.000000\n",
       "50%      2014.000000\n",
       "75%      2018.000000\n",
       "max      2022.000000\n",
       "Name: Year, dtype: float64"
      ]
     },
     "execution_count": 45,
     "metadata": {},
     "output_type": "execute_result"
    }
   ],
   "source": [
    "data_copy['Year'].describe()"
   ]
  },
  {
   "cell_type": "markdown",
   "id": "426d4c58-f0d6-42d5-8884-ccd167790f77",
   "metadata": {},
   "source": [
    "Check the integrity of the rows that have a corresponding value in `Year_Split` column."
   ]
  },
  {
   "cell_type": "code",
   "execution_count": 46,
   "id": "45b2f699-5f63-44be-8775-f884aa8268ea",
   "metadata": {},
   "outputs": [
    {
     "data": {
      "text/plain": [
       "Index                                                               94\n",
       "Entity                                                         EasyJet\n",
       "Year                                                              None\n",
       "Records              9,000,000 (approx) - basic booking, 2208 (cred...\n",
       "Organization type                                            transport\n",
       "Method                                                          hacked\n",
       "Year_Split                                                   2019-2020\n",
       "Name: 94, dtype: object"
      ]
     },
     "execution_count": 46,
     "metadata": {},
     "output_type": "execute_result"
    }
   ],
   "source": [
    "row_label = 94 \n",
    "selected_row = data.loc[row_label]\n",
    "\n",
    "selected_row"
   ]
  },
  {
   "cell_type": "markdown",
   "id": "3bc12907-5966-4e91-b5c0-acc8d38baf54",
   "metadata": {},
   "source": [
    "Create a data frame only for rows that have a value in `Year_Split`"
   ]
  },
  {
   "cell_type": "code",
   "execution_count": 47,
   "id": "7c685aa4-6876-410c-931b-1ef4784a7117",
   "metadata": {},
   "outputs": [
    {
     "data": {
      "text/html": [
       "<div>\n",
       "<style scoped>\n",
       "    .dataframe tbody tr th:only-of-type {\n",
       "        vertical-align: middle;\n",
       "    }\n",
       "\n",
       "    .dataframe tbody tr th {\n",
       "        vertical-align: top;\n",
       "    }\n",
       "\n",
       "    .dataframe thead th {\n",
       "        text-align: right;\n",
       "    }\n",
       "</style>\n",
       "<table border=\"1\" class=\"dataframe\">\n",
       "  <thead>\n",
       "    <tr style=\"text-align: right;\">\n",
       "      <th></th>\n",
       "      <th>Index</th>\n",
       "      <th>Entity</th>\n",
       "      <th>Year</th>\n",
       "      <th>Records</th>\n",
       "      <th>Organization type</th>\n",
       "      <th>Method</th>\n",
       "      <th>Year_Split</th>\n",
       "    </tr>\n",
       "  </thead>\n",
       "  <tbody>\n",
       "    <tr>\n",
       "      <th>94</th>\n",
       "      <td>94</td>\n",
       "      <td>EasyJet</td>\n",
       "      <td>None</td>\n",
       "      <td>9,000,000 (approx) - basic booking, 2208 (cred...</td>\n",
       "      <td>transport</td>\n",
       "      <td>hacked</td>\n",
       "      <td>2019-2020</td>\n",
       "    </tr>\n",
       "    <tr>\n",
       "      <th>96</th>\n",
       "      <td>96</td>\n",
       "      <td>Earl Enterprises(Buca di Beppo, Earl of Sandwi...</td>\n",
       "      <td>None</td>\n",
       "      <td>2000000</td>\n",
       "      <td>restaurant</td>\n",
       "      <td>hacked</td>\n",
       "      <td>2018-2019</td>\n",
       "    </tr>\n",
       "    <tr>\n",
       "      <th>144</th>\n",
       "      <td>144</td>\n",
       "      <td>Hilton Hotels</td>\n",
       "      <td>None</td>\n",
       "      <td>363000</td>\n",
       "      <td>hotel</td>\n",
       "      <td>hacked</td>\n",
       "      <td>2014 and 2015</td>\n",
       "    </tr>\n",
       "  </tbody>\n",
       "</table>\n",
       "</div>"
      ],
      "text/plain": [
       "     Index                                             Entity  Year  \\\n",
       "94      94                                            EasyJet  None   \n",
       "96      96  Earl Enterprises(Buca di Beppo, Earl of Sandwi...  None   \n",
       "144    144                                      Hilton Hotels  None   \n",
       "\n",
       "                                               Records Organization type  \\\n",
       "94   9,000,000 (approx) - basic booking, 2208 (cred...         transport   \n",
       "96                                             2000000        restaurant   \n",
       "144                                             363000             hotel   \n",
       "\n",
       "     Method     Year_Split  \n",
       "94   hacked      2019-2020  \n",
       "96   hacked      2018-2019  \n",
       "144  hacked  2014 and 2015  "
      ]
     },
     "execution_count": 47,
     "metadata": {},
     "output_type": "execute_result"
    }
   ],
   "source": [
    "data_split = data[data['Year_Split'].notna()].copy()\n",
    "data_split.head()"
   ]
  },
  {
   "cell_type": "markdown",
   "id": "b03eb4b5-ab6c-4a29-b49e-574457a03a9f",
   "metadata": {},
   "source": [
    "### Step 5: Sample the data"
   ]
  },
  {
   "cell_type": "markdown",
   "id": "8030f8eb-98ed-4af8-9d53-8cdbbdcaf878",
   "metadata": {},
   "source": [
    "Select a sample of 40 rows and set a seed of 32 for the number generator. Using a seed ensures that we get the same random sample each time we run the code. If you don't set a seed, we'll get a different random sample every time."
   ]
  },
  {
   "cell_type": "code",
   "execution_count": 48,
   "id": "3468ddc6-7a58-433b-b1c9-e1f81c838172",
   "metadata": {
    "scrolled": true
   },
   "outputs": [
    {
     "data": {
      "text/plain": [
       "(40, 7)"
      ]
     },
     "execution_count": 48,
     "metadata": {},
     "output_type": "execute_result"
    }
   ],
   "source": [
    "random_companies = data_copy.sample(n=40, random_state = 32)\n",
    "\n",
    "random_companies.shape"
   ]
  },
  {
   "cell_type": "markdown",
   "id": "1887f7d9-205f-4d71-b1ef-8eb50c9bd41a",
   "metadata": {},
   "source": [
    "### Step 6: Analyze the data"
   ]
  },
  {
   "cell_type": "markdown",
   "id": "25f81a36-de08-4314-9c69-ef357acda9ce",
   "metadata": {},
   "source": [
    "Group number of attacks data by year and organization type, counts the number of attacks within each group, and then presents this information in a new DataFrame called `attacks_by_year`. This DataFrame provides a clear overview of how many attacks each organization type experienced in each year."
   ]
  },
  {
   "cell_type": "markdown",
   "id": "dab102dd-7357-4c40-9ca2-6abc6917ee4c",
   "metadata": {},
   "source": [
    "Identify how many rows in the dataset have the same `Year` and `Organizaton type` as other rows."
   ]
  },
  {
   "cell_type": "code",
   "execution_count": 49,
   "id": "cba52a39-988c-4ea7-ade5-e2b9d86faf78",
   "metadata": {},
   "outputs": [
    {
     "data": {
      "text/plain": [
       "(9, 7)"
      ]
     },
     "execution_count": 49,
     "metadata": {},
     "output_type": "execute_result"
    }
   ],
   "source": [
    "duplicates = random_companies[random_companies.duplicated(subset=['Year', 'Organization type'], keep=False)]\n",
    "duplicates.shape"
   ]
  },
  {
   "cell_type": "markdown",
   "id": "2e85e39e-c48a-478f-a729-e0c089d7718b",
   "metadata": {},
   "source": [
    "Calculate the number of attacks for **each unique combination** of `Year` and `Organization type` in `random_companies`"
   ]
  },
  {
   "cell_type": "code",
   "execution_count": 50,
   "id": "7a1457f5-d747-4bbf-a895-e58ee57dc679",
   "metadata": {},
   "outputs": [
    {
     "data": {
      "text/plain": [
       "(35, 3)"
      ]
     },
     "execution_count": 50,
     "metadata": {},
     "output_type": "execute_result"
    }
   ],
   "source": [
    "attacks_by_year = random_companies.groupby(['Year', 'Organization type']).size().reset_index(name='Number of Attacks')\n",
    "attacks_by_year.shape"
   ]
  },
  {
   "cell_type": "markdown",
   "id": "f72f9b9b-de76-4e5b-921b-f6ac7906691e",
   "metadata": {},
   "source": [
    "Group the attack data by `Year_Split`  and `Organization type`, count the attacks within each group, and present this information in a new DataFrame called `attacks_by_year_split`. This allows us to analyze attack trends based on the `Year_Split` categorization."
   ]
  },
  {
   "cell_type": "code",
   "execution_count": 51,
   "id": "859a368b-e965-4ccb-a1bf-545c07d40ac8",
   "metadata": {},
   "outputs": [
    {
     "data": {
      "text/html": [
       "<div>\n",
       "<style scoped>\n",
       "    .dataframe tbody tr th:only-of-type {\n",
       "        vertical-align: middle;\n",
       "    }\n",
       "\n",
       "    .dataframe tbody tr th {\n",
       "        vertical-align: top;\n",
       "    }\n",
       "\n",
       "    .dataframe thead th {\n",
       "        text-align: right;\n",
       "    }\n",
       "</style>\n",
       "<table border=\"1\" class=\"dataframe\">\n",
       "  <thead>\n",
       "    <tr style=\"text-align: right;\">\n",
       "      <th></th>\n",
       "      <th>Year_Split</th>\n",
       "      <th>Organization type</th>\n",
       "      <th>Number of Attacks</th>\n",
       "    </tr>\n",
       "  </thead>\n",
       "  <tbody>\n",
       "    <tr>\n",
       "      <th>0</th>\n",
       "      <td>2014 and 2015</td>\n",
       "      <td>hotel</td>\n",
       "      <td>1</td>\n",
       "    </tr>\n",
       "    <tr>\n",
       "      <th>1</th>\n",
       "      <td>2018-2019</td>\n",
       "      <td>restaurant</td>\n",
       "      <td>1</td>\n",
       "    </tr>\n",
       "    <tr>\n",
       "      <th>2</th>\n",
       "      <td>2019-2020</td>\n",
       "      <td>transport</td>\n",
       "      <td>1</td>\n",
       "    </tr>\n",
       "  </tbody>\n",
       "</table>\n",
       "</div>"
      ],
      "text/plain": [
       "      Year_Split Organization type  Number of Attacks\n",
       "0  2014 and 2015             hotel                  1\n",
       "1      2018-2019        restaurant                  1\n",
       "2      2019-2020         transport                  1"
      ]
     },
     "execution_count": 51,
     "metadata": {},
     "output_type": "execute_result"
    }
   ],
   "source": [
    "attacks_by_year_split = data_split.groupby(['Year_Split', 'Organization type']).size().reset_index(name='Number of Attacks')\n",
    "attacks_by_year_split"
   ]
  },
  {
   "cell_type": "markdown",
   "id": "84a3ca2e-e3a4-4dbc-87f1-0e6971f26cf4",
   "metadata": {},
   "source": [
    "\n",
    "1. `split_and_sum(df)` takes the DataFrame (`data`) and processes rows where the `Year_Split` column contains combined years. It splits these entries into separate rows while preserving the attack counts.\n",
    "How it works:\n",
    "- It iterates through each row of the DataFrame.\n",
    "- If \"and\" is found in the `Year_Split` value:\n",
    "- It splits the `Year_Split` string into individual years.\n",
    "- For each extracted year, it creates a new row that's a copy of the original row but with the `Year_Split` set to the individual year.\n",
    "- If \"and\" is not found, it keeps the row as is.\n",
    "  \n",
    "Output: The function returns a new DataFrame (`all_rows`) where combined year entries are expanded into separate rows.\n",
    "\n",
    "2. Applying the Function and Aggregating:\n",
    "\n",
    "`attacks_expanded = split_and_sum(attacks_by_year_split) \n",
    "attacks_final = attacks_expanded.groupby('Year_Split').agg({\n",
    "    'Organization type': ', '.join,\n",
    "    'Number of Attacks': 'sum'\n",
    "}).reset_index()`\n",
    "\n",
    "`attacks_expanded = `:  applies the split_and_sum function to your original DataFrame (presumably named attacks_by_year_split), which likely contains the combined year entries. The result is stored in attacks_expanded.\n",
    "\n",
    "`attacks_final = `:  further processes the expanded DataFrame:\n",
    "\n",
    "`groupby('Year_Split')`:  groups the data by the now-separated 'Year_Split' values.\n",
    "\n",
    "`.agg({...})`: performs aggregation within each year group:\n",
    "\n",
    "`Organization type`: ', '.join: For each year, it combines the unique \"Organization type\" values into a single string, separated by commas.\n",
    "\n",
    "`Number of Attacks`: 'sum':  sums up the 'Number of Attacks' for each year.\n",
    "\n",
    "`.reset_index()`:  resets the index, making 'Year_Split' a regular column again.\n",
    "\n",
    "\n",
    "\n",
    "3. `attacks_final.head()`: displays the first few rows of the final processed DataFrame (attacks_final). This DataFrame should now have a clean structure with each row representing a unique year, the associated organization types attacked that year, and the total number of attacks.\n"
   ]
  },
  {
   "cell_type": "code",
   "execution_count": 52,
   "id": "0cd644f1-a33c-43c1-91aa-f1d9fa502566",
   "metadata": {},
   "outputs": [
    {
     "data": {
      "text/html": [
       "<div>\n",
       "<style scoped>\n",
       "    .dataframe tbody tr th:only-of-type {\n",
       "        vertical-align: middle;\n",
       "    }\n",
       "\n",
       "    .dataframe tbody tr th {\n",
       "        vertical-align: top;\n",
       "    }\n",
       "\n",
       "    .dataframe thead th {\n",
       "        text-align: right;\n",
       "    }\n",
       "</style>\n",
       "<table border=\"1\" class=\"dataframe\">\n",
       "  <thead>\n",
       "    <tr style=\"text-align: right;\">\n",
       "      <th></th>\n",
       "      <th>Year_Split</th>\n",
       "      <th>Organization type</th>\n",
       "      <th>Number of Attacks</th>\n",
       "    </tr>\n",
       "  </thead>\n",
       "  <tbody>\n",
       "    <tr>\n",
       "      <th>0</th>\n",
       "      <td>2014</td>\n",
       "      <td>hotel</td>\n",
       "      <td>1</td>\n",
       "    </tr>\n",
       "    <tr>\n",
       "      <th>1</th>\n",
       "      <td>2015</td>\n",
       "      <td>hotel</td>\n",
       "      <td>1</td>\n",
       "    </tr>\n",
       "    <tr>\n",
       "      <th>2</th>\n",
       "      <td>2018-2019</td>\n",
       "      <td>restaurant</td>\n",
       "      <td>1</td>\n",
       "    </tr>\n",
       "    <tr>\n",
       "      <th>3</th>\n",
       "      <td>2019-2020</td>\n",
       "      <td>transport</td>\n",
       "      <td>1</td>\n",
       "    </tr>\n",
       "  </tbody>\n",
       "</table>\n",
       "</div>"
      ],
      "text/plain": [
       "  Year_Split Organization type  Number of Attacks\n",
       "0       2014             hotel                  1\n",
       "1       2015             hotel                  1\n",
       "2  2018-2019        restaurant                  1\n",
       "3  2019-2020         transport                  1"
      ]
     },
     "execution_count": 52,
     "metadata": {},
     "output_type": "execute_result"
    }
   ],
   "source": [
    "\n",
    "def split_and_sum(data):\n",
    "    \"\"\"Splits 'and' years, aggregates, and maintains attack counts.\"\"\"\n",
    "    all_rows = []\n",
    "    for index, row in data.iterrows():\n",
    "        if 'and' in row['Year_Split']:\n",
    "            years = row['Year_Split'].split(' and ')\n",
    "            for year in years:\n",
    "                new_row = row.copy()\n",
    "                new_row['Year_Split'] = year\n",
    "                all_rows.append(new_row)\n",
    "        else:\n",
    "            all_rows.append(row)\n",
    "    return pd.DataFrame(all_rows)\n",
    "\n",
    "attacks_expanded = split_and_sum(attacks_by_year_split)\n",
    "attacks_final = attacks_expanded.groupby('Year_Split').agg({\n",
    "    'Organization type': ', '.join,\n",
    "    'Number of Attacks': 'sum'\n",
    "}).reset_index()\n",
    "\n",
    "attacks_final.head()\n"
   ]
  },
  {
   "cell_type": "markdown",
   "id": "1ef93df6-a1cd-4e83-98b1-d95b8e12a18c",
   "metadata": {},
   "source": [
    "Combine `attacks_by_year` and `attacks_by_year_split` "
   ]
  },
  {
   "cell_type": "code",
   "execution_count": 53,
   "id": "ff37e2a7-db19-4b6a-b3df-d4dac49e5231",
   "metadata": {},
   "outputs": [
    {
     "data": {
      "text/plain": [
       "(38, 4)"
      ]
     },
     "execution_count": 53,
     "metadata": {},
     "output_type": "execute_result"
    }
   ],
   "source": [
    "combined_attacks = pd.concat([attacks_by_year, attacks_by_year_split])\n",
    "\n",
    "combined_attacks.shape"
   ]
  },
  {
   "cell_type": "markdown",
   "id": "8466a289-2f54-4a3b-bb75-8ac28dd224ba",
   "metadata": {},
   "source": [
    "There are 38 rows and 4 columns. This is exactly what we needed, 3 new rows were joined to the initial 35 rows resulted from grouping.\n",
    "\n",
    "Now, group the combined_attacks DataFrame by \"Organization type\" and calculate the total number of attacks for each type, storing the result in the `total_attacks` Series.\n",
    "Find the index label (the \"Organization type\") with the maximum value (highest number of attacks) in the `total_attacks` Series. The result is stored in `most_attacked_type`.\n",
    "Then find the maximum value (highest number of attacks) itself from the `total_attacks` Series. The result is stored in `max_attacks`."
   ]
  },
  {
   "cell_type": "markdown",
   "id": "bb88cf19-89ff-4b62-abdb-30c77e5955cb",
   "metadata": {},
   "source": [
    "### Step 7: Results and evaluation"
   ]
  },
  {
   "cell_type": "code",
   "execution_count": 54,
   "id": "21814528-16e8-4717-915a-eed99545255f",
   "metadata": {},
   "outputs": [],
   "source": [
    "total_attacks = combined_attacks.groupby('Organization type')['Number of Attacks'].sum()\n"
   ]
  },
  {
   "cell_type": "code",
   "execution_count": 55,
   "id": "05ddad73-fea4-415e-8035-a7d4a1ab5cf7",
   "metadata": {},
   "outputs": [
    {
     "data": {
      "image/png": "[encoded data removed]",
      "text/plain": [
       "<Figure size 1000x600 with 1 Axes>"
      ]
     },
     "metadata": {},
     "output_type": "display_data"
    }
   ],
   "source": [
    "plt.figure(figsize=(10, 6)) \n",
    "sns.barplot(x=total_attacks.index, y=total_attacks.values)\n",
    "\n",
    "plt.xlabel('Organization Type')\n",
    "plt.ylabel('Total Number of Attacks')\n",
    "plt.title('Total Attacks by Organization Type')\n",
    "plt.xticks(rotation=45, ha='right') \n",
    "plt.tight_layout() \n",
    "plt.show()"
   ]
  },
  {
   "cell_type": "markdown",
   "id": "a276802b-a44a-4cc0-bec5-44276cd359f1",
   "metadata": {},
   "source": [
    "Calculate the total attacks for each organization type, and identify the organization type with the most attacks."
   ]
  },
  {
   "cell_type": "code",
   "execution_count": 56,
   "id": "b87de2fe-25e1-4f83-a346-a7ccade17847",
   "metadata": {},
   "outputs": [
    {
     "name": "stdout",
     "output_type": "stream",
     "text": [
      "The organization type with the most attacks is 'healthcare' with 6 attacks.\n"
     ]
    }
   ],
   "source": [
    "most_attacked_type = total_attacks.idxmax()\n",
    "max_attacks = total_attacks.max()\n",
    "print(f\"The organization type with the most attacks is '{most_attacked_type}' with {max_attacks} attacks.\")"
   ]
  },
  {
   "cell_type": "markdown",
   "id": "a367a817-ce67-4fc4-abbc-b50e4f50387f",
   "metadata": {},
   "source": [
    "Calculate the total attacks for each organization type, and identify the organization type with the fewest attacks."
   ]
  },
  {
   "cell_type": "code",
   "execution_count": 57,
   "id": "90d25856-ed17-4bb2-b8b7-df8ef9e7d022",
   "metadata": {},
   "outputs": [
    {
     "name": "stdout",
     "output_type": "stream",
     "text": [
      "The organization type with the least attacks is 'banking' with 1 attacks.\n"
     ]
    }
   ],
   "source": [
    "least_attacked_type = total_attacks.idxmin()\n",
    "min_attacks = total_attacks.min()\n",
    "\n",
    "print(f\"The organization type with the least attacks is '{least_attacked_type}' with {min_attacks} attacks.\")"
   ]
  },
  {
   "cell_type": "code",
   "execution_count": 58,
   "id": "d77c9ec5-f46e-4120-a38a-ab7fe83df9c5",
   "metadata": {},
   "outputs": [
    {
     "name": "stdout",
     "output_type": "stream",
     "text": [
      "Shapiro-Wilk Statistic: 0.361\n",
      "P-value: 0.000\n",
      "Data does not look normally distributed (reject H0)\n"
     ]
    }
   ],
   "source": [
    "\"\"\"\n",
    "\n",
    "Perform a Shapiro-Wilk test to assess whether the data in the 'Number of Attacks' column of your combined_attacks DataFrame is normally distributed.\n",
    "\n",
    "data = combined_attacks['Number of Attacks'] extract the data from the 'Number of Attacks' column of your DataFrame and stores it in the variable data.\n",
    "statistic, p_value = stats.shapiro(data) perform the Shapiro-Wilk test using the shapiro() function from the scipy.stats module. \n",
    "\n",
    "The shapiro() function takes the data as input. It returns two values: statistic: The Shapiro-Wilk test statistic (W), which measures how well the data fits a normal distribution.\n",
    "#p_value\"The probability of observing the data (or more extreme data) if the data were truly normally distributed.\n",
    "\n",
    "\"\"\"\n",
    "\n",
    "\n",
    "\n",
    "data = combined_attacks['Number of Attacks'] \n",
    "\n",
    "\n",
    "statistic, p_value = stats.shapiro(data) \n",
    "\n",
    "# Print the results\n",
    "print(f\"Shapiro-Wilk Statistic: {statistic:.3f}\")\n",
    "print(f\"P-value: {p_value:.3f}\")\n",
    "\n",
    "# Interpret the results\n",
    "alpha = 0.05  # Set the significance level\n",
    "if p_value > alpha:\n",
    "    print(\"Data looks normally distributed (fail to reject H0)\")\n",
    "else:\n",
    "    print(\"Data does not look normally distributed (reject H0)\")"
   ]
  },
  {
   "cell_type": "code",
   "execution_count": 59,
   "id": "ab9179fe-7d91-4eca-a179-bfd929935a8c",
   "metadata": {},
   "outputs": [
    {
     "name": "stdout",
     "output_type": "stream",
     "text": [
      "No significant difference between groups (fail to reject H0)\n"
     ]
    }
   ],
   "source": [
    "\"\"\"\n",
    "\n",
    "This line creates a list called groups. Each element in this list is a Pandas Series containing the 'Number of Attacks' for a specific 'Organization type'.\n",
    "It iterates through each unique 'Organization type' found in the attacks_by_year DataFrame.\n",
    "For each org_type, it selects the 'Number of Attacks' from the combined_attacks DataFrame where the 'Organization type' matches the current org_type.\n",
    "\n",
    "\"\"\"\n",
    "\n",
    "groups = [combined_attacks['Number of Attacks'][combined_attacks['Organization type'] == org_type] \n",
    "          for org_type in attacks_by_year['Organization type'].unique()]\n",
    "\n",
    "# Perform the Kruskal-Wallis test\n",
    "statistic, p_value = kruskal(*groups)\n",
    "\n",
    "alpha = 0.05  # Set the significance level\n",
    "if p_value > alpha:\n",
    "    print(\"No significant difference between groups (fail to reject H0)\")\n",
    "else:\n",
    "    print(\"Significant difference between at least two groups (reject H0)\")"
   ]
  }
 ],
 "metadata": {
  "kernelspec": {
   "display_name": "Python 3 (ipykernel)",
   "language": "python",
   "name": "python3"
  },
  "language_info": {
   "codemirror_mode": {
    "name": "ipython",
    "version": 3
   },
   "file_extension": ".py",
   "mimetype": "text/x-python",
   "name": "python",
   "nbconvert_exporter": "python",
   "pygments_lexer": "ipython3",
   "version": "3.12.5"
  }
 },
 "nbformat": 4,
 "nbformat_minor": 5
}
